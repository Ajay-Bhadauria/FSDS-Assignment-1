{
 "cells": [
  {
   "cell_type": "markdown",
   "id": "12b47b03",
   "metadata": {},
   "source": [
    "#### 1.What are the two values of the Boolean data type? How do you write them?"
   ]
  },
  {
   "cell_type": "markdown",
   "id": "670d5d30",
   "metadata": {},
   "source": [
    "The two values of Boolean data type are True and False. \n",
    "These values are used to check if the given condition is satisfied or not. If it's not satisfied the returned value is False and True if satisfied."
   ]
  },
  {
   "cell_type": "markdown",
   "id": "c2bb98ff",
   "metadata": {},
   "source": [
    "#### 2. What are the three different types of Boolean operators?"
   ]
  },
  {
   "cell_type": "markdown",
   "id": "f98a0041",
   "metadata": {},
   "source": [
    "Three different types of Boolean Operators are AND, OR , NOT"
   ]
  },
  {
   "cell_type": "markdown",
   "id": "bea75ca4",
   "metadata": {},
   "source": [
    "#### 3.Make a list of each Boolean operator&#39;s truth tables (i.e. every possible combination of Boolean values for the operator and what it evaluate )."
   ]
  },
  {
   "cell_type": "raw",
   "id": "91743f61",
   "metadata": {},
   "source": [
    "  A       B     A AND B   A OR B    NOT A\n",
    "\n",
    "FALSE   FALSE    FALSE    FALSE     TRUE\n",
    "FALSE   TRUE     FALSE    TRUE      TRUE \n",
    "TRUE    FALSE    FALSE    TRUE      FALSE\n",
    "TRUE    TRUE     TRUE     TRUE      FALSE"
   ]
  },
  {
   "cell_type": "markdown",
   "id": "530cd88f",
   "metadata": {},
   "source": [
    "#### 4. What are the values of the following expressions?"
   ]
  },
  {
   "cell_type": "code",
   "execution_count": 1,
   "id": "42e2d20d",
   "metadata": {},
   "outputs": [
    {
     "data": {
      "text/plain": [
       "False"
      ]
     },
     "execution_count": 1,
     "metadata": {},
     "output_type": "execute_result"
    }
   ],
   "source": [
    "(5 > 4) and (3 == 5) # True and False (and operation return True when all inputs are True otherwise returns False)"
   ]
  },
  {
   "cell_type": "code",
   "execution_count": 2,
   "id": "82505110",
   "metadata": {},
   "outputs": [
    {
     "data": {
      "text/plain": [
       "False"
      ]
     },
     "execution_count": 2,
     "metadata": {},
     "output_type": "execute_result"
    }
   ],
   "source": [
    "not (5 > 4) # (5>4 returns True, but we have to check for \"not\"(5>4) which is not True so it will return False)"
   ]
  },
  {
   "cell_type": "code",
   "execution_count": 3,
   "id": "65af5c2a",
   "metadata": {},
   "outputs": [
    {
     "data": {
      "text/plain": [
       "True"
      ]
     },
     "execution_count": 3,
     "metadata": {},
     "output_type": "execute_result"
    }
   ],
   "source": [
    "(5  >4) or (3 == 5) #(True or False, 'or' conditions returns false only if one of the input is False otherwise it always returns True)"
   ]
  },
  {
   "cell_type": "code",
   "execution_count": 4,
   "id": "c2e43d66",
   "metadata": {},
   "outputs": [
    {
     "data": {
      "text/plain": [
       "False"
      ]
     },
     "execution_count": 4,
     "metadata": {},
     "output_type": "execute_result"
    }
   ],
   "source": [
    "not ((5 > 4) or (3 == 5)) #(not(True or False),true of false return True, not(True)  will invert the input, so it will return False)"
   ]
  },
  {
   "cell_type": "code",
   "execution_count": 5,
   "id": "74cf45dc",
   "metadata": {},
   "outputs": [
    {
     "data": {
      "text/plain": [
       "False"
      ]
     },
     "execution_count": 5,
     "metadata": {},
     "output_type": "execute_result"
    }
   ],
   "source": [
    "(True and True) and (True == False) #(True and True --> True, True and False--> False, i.e True and False will return False)"
   ]
  },
  {
   "cell_type": "code",
   "execution_count": 6,
   "id": "7f5d8661",
   "metadata": {},
   "outputs": [
    {
     "data": {
      "text/plain": [
       "True"
      ]
     },
     "execution_count": 6,
     "metadata": {},
     "output_type": "execute_result"
    }
   ],
   "source": [
    "(not False) or (not True) #(not False--> True, not True-->False, i.e True or False--> True)"
   ]
  },
  {
   "cell_type": "markdown",
   "id": "ac72037e",
   "metadata": {},
   "source": [
    "#### 5. What are the six comparison operators?"
   ]
  },
  {
   "cell_type": "raw",
   "id": "c31b99d6",
   "metadata": {},
   "source": [
    "SIX comparision operators are,\n",
    "greater than (>)\n",
    "lesser than (<)\n",
    "equal to (==)\n",
    "not equal to (!=)\n",
    "greater than or equal to (>=)\n",
    "lesser than or equal to (<=)\n"
   ]
  },
  {
   "cell_type": "markdown",
   "id": "9923fde7",
   "metadata": {},
   "source": [
    "#### 6. How do you tell the difference between the equal to and assignment operators?Describe a condition and when you would use one."
   ]
  },
  {
   "cell_type": "markdown",
   "id": "4b16d794",
   "metadata": {},
   "source": [
    "equal to operator(==) return output as a boolean , it checks if the given condition is true or false where as assignment operator(=) is used to define a value to the variable.Basically == indicates equal to operator and = indicates assignment operator.\n"
   ]
  },
  {
   "cell_type": "markdown",
   "id": "6c08be06",
   "metadata": {},
   "source": [
    "#### 7.Identify the three blocks in this code:"
   ]
  },
  {
   "cell_type": "markdown",
   "id": "cd65656f",
   "metadata": {},
   "source": [
    "spam = 0\n",
    "\n",
    "\n",
    "if spam == 10:\n",
    "\n",
    "print(&#39;eggs&#39;)\n",
    "\n",
    "if spam &gt; 5:\n",
    "\n",
    "print(&#39;bacon&#39;)\n",
    "\n",
    "else:\n",
    "\n",
    "print(&#39;ham&#39;)\n",
    "\n",
    "print(&#39;spam&#39;)\n",
    "\n",
    "print(&#39;spam&#39;)\n"
   ]
  },
  {
   "cell_type": "markdown",
   "id": "8a5632db",
   "metadata": {},
   "source": [
    "#### Block 1:\n",
    "if spam == 10:\n",
    "\n",
    "print('eggs')\n",
    "    "
   ]
  },
  {
   "cell_type": "markdown",
   "id": "3bdd803e",
   "metadata": {},
   "source": [
    "#### Block 2 :\n",
    "if spam >:\n",
    "\n",
    "print('bacon')\n",
    "     "
   ]
  },
  {
   "cell_type": "markdown",
   "id": "8d95b29f",
   "metadata": {},
   "source": [
    "#### Block 3:\n",
    "else:\n",
    "print('ham')\n",
    "\n",
    "print('spam')\n",
    "\n",
    "print('spam')"
   ]
  },
  {
   "cell_type": "markdown",
   "id": "7e953538",
   "metadata": {},
   "source": [
    "#### 8.Write code that prints Hello if 1 is stored in spam, prints Howdy if 2 is stored in spam, and prints Greetings! if anything else is stored in spam."
   ]
  },
  {
   "cell_type": "code",
   "execution_count": 8,
   "id": "cae1921a",
   "metadata": {},
   "outputs": [
    {
     "name": "stdout",
     "output_type": "stream",
     "text": [
      "Enter value of spam6\n",
      "Greetings!\n"
     ]
    }
   ],
   "source": [
    "spam = int(input('Enter value of spam'))\n",
    "if spam == 1:\n",
    "    print('spam')\n",
    "if spam == 2:\n",
    "    print('Howdy')\n",
    "else:\n",
    "    print('Greetings!')"
   ]
  },
  {
   "cell_type": "markdown",
   "id": "0ab9b9e1",
   "metadata": {},
   "source": [
    "#### 9.If your programme is stuck in an endless loop, what keys you’ll press?"
   ]
  },
  {
   "cell_type": "markdown",
   "id": "0dc7f143",
   "metadata": {},
   "source": [
    "Ctrl+C"
   ]
  },
  {
   "cell_type": "markdown",
   "id": "f1b557bc",
   "metadata": {},
   "source": [
    "#### 10.How can you tell the difference between break and continue?"
   ]
  },
  {
   "cell_type": "markdown",
   "id": "76909c34",
   "metadata": {},
   "source": [
    "The main difference between both the statements is that when break keyword comes, it terminates the execution of the current loop and passes the control over the next loop or main body, whereas when continue keyword is encountered, it skips the current iteration and executes the very next iteration in the loop"
   ]
  },
  {
   "cell_type": "markdown",
   "id": "9651d115",
   "metadata": {},
   "source": [
    "#### 11.In a for loop, what is the difference between range(10), range(0, 10), and range(0, 10, 1)?"
   ]
  },
  {
   "cell_type": "code",
   "execution_count": 9,
   "id": "f8b2ade1",
   "metadata": {},
   "outputs": [
    {
     "name": "stdout",
     "output_type": "stream",
     "text": [
      "0\n",
      "1\n",
      "2\n",
      "3\n",
      "4\n",
      "5\n",
      "6\n",
      "7\n",
      "8\n",
      "9\n"
     ]
    }
   ],
   "source": [
    "for i in range(10):\n",
    "    print(i)"
   ]
  },
  {
   "cell_type": "code",
   "execution_count": 10,
   "id": "39e92d45",
   "metadata": {},
   "outputs": [
    {
     "name": "stdout",
     "output_type": "stream",
     "text": [
      "0\n",
      "1\n",
      "2\n",
      "3\n",
      "4\n",
      "5\n",
      "6\n",
      "7\n",
      "8\n",
      "9\n"
     ]
    }
   ],
   "source": [
    "for i in range(0,10):\n",
    "    print(i)"
   ]
  },
  {
   "cell_type": "code",
   "execution_count": 11,
   "id": "9309549f",
   "metadata": {},
   "outputs": [
    {
     "name": "stdout",
     "output_type": "stream",
     "text": [
      "0\n",
      "1\n",
      "2\n",
      "3\n",
      "4\n",
      "5\n",
      "6\n",
      "7\n",
      "8\n",
      "9\n"
     ]
    }
   ],
   "source": [
    "for i in range(0,10,1):\n",
    "    print(i)"
   ]
  },
  {
   "cell_type": "markdown",
   "id": "6feca5df",
   "metadata": {},
   "source": [
    "#### 12. Write a short program that prints the numbers 1 to 10 using a for loop. Then write an equivalent program that prints the numbers 1 to 10 using a while loop ?"
   ]
  },
  {
   "cell_type": "code",
   "execution_count": 12,
   "id": "2b0d9c9b",
   "metadata": {},
   "outputs": [
    {
     "name": "stdout",
     "output_type": "stream",
     "text": [
      "1 2 3 4 5 6 7 8 9 10 "
     ]
    }
   ],
   "source": [
    "for i in range(1, 11):\n",
    "    print(i, end = ' ')"
   ]
  },
  {
   "cell_type": "code",
   "execution_count": 13,
   "id": "daef1cbe",
   "metadata": {},
   "outputs": [
    {
     "name": "stdout",
     "output_type": "stream",
     "text": [
      "1 2 3 4 5 6 7 8 9 10 "
     ]
    }
   ],
   "source": [
    "i = 1\n",
    "while i<11:\n",
    "    print(i, end = ' ')\n",
    "    i += 1"
   ]
  },
  {
   "cell_type": "markdown",
   "id": "017ab542",
   "metadata": {},
   "source": [
    "#### 13. If you had a function named bacon() inside a module named spam, how would you call it after importing spam?"
   ]
  },
  {
   "cell_type": "markdown",
   "id": "bfb4dab8",
   "metadata": {},
   "source": [
    "import spam\n",
    "\n",
    "spam.bacon()"
   ]
  }
 ],
 "metadata": {
  "kernelspec": {
   "display_name": "Python 3",
   "language": "python",
   "name": "python3"
  },
  "language_info": {
   "codemirror_mode": {
    "name": "ipython",
    "version": 3
   },
   "file_extension": ".py",
   "mimetype": "text/x-python",
   "name": "python",
   "nbconvert_exporter": "python",
   "pygments_lexer": "ipython3",
   "version": "3.8.8"
  }
 },
 "nbformat": 4,
 "nbformat_minor": 5
}
