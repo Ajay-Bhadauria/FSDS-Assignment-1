{
 "cells": [
  {
   "cell_type": "code",
   "execution_count": 2,
   "id": "ef3ed5f2",
   "metadata": {},
   "outputs": [],
   "source": [
    "# Assignemnt link: https://drive.google.com/file/d/1RjQBjq90BeqNuon_JUlrih7Tnda732cs/view"
   ]
  },
  {
   "cell_type": "markdown",
   "id": "964dd1ab",
   "metadata": {},
   "source": [
    "# Question 1:"
   ]
  },
  {
   "cell_type": "code",
   "execution_count": 40,
   "id": "7af9d4fc",
   "metadata": {},
   "outputs": [
    {
     "data": {
      "text/plain": [
       "\"# 1. In the below elements which of them are values or an expression? eg:- values can be integer or string and expressions will be mathematical operators.\\n* \\n'hello'\\n-87.8\\n- \\n/ \\n+\\t\\n6 \""
      ]
     },
     "execution_count": 40,
     "metadata": {},
     "output_type": "execute_result"
    }
   ],
   "source": [
    "'''# 1. In the below elements which of them are values or an expression? eg:- values can be integer or string and expressions will be mathematical operators.\n",
    "* \n",
    "'hello'\n",
    "-87.8\n",
    "- \n",
    "/ \n",
    "+\t\n",
    "6 '''"
   ]
  },
  {
   "cell_type": "raw",
   "id": "c741fd51",
   "metadata": {},
   "source": [
    "'''Answer:\n",
    "* ---> expression( for multiplication)\n",
    "'hello' ---> value ( string)\n",
    "-87.8 ---> value (floating number)\n",
    "-  ---> expression for substraction\n",
    "/  ---> expression for divison\n",
    "+  ---> expression for addition\n",
    "6  ---> value (integer)'''"
   ]
  },
  {
   "cell_type": "markdown",
   "id": "b55c841f",
   "metadata": {},
   "source": [
    "\n",
    "# Question 2:\n"
   ]
  },
  {
   "cell_type": "code",
   "execution_count": null,
   "id": "e911cabb",
   "metadata": {},
   "outputs": [],
   "source": [
    "'''What is the difference between string and variable?'''"
   ]
  },
  {
   "cell_type": "code",
   "execution_count": null,
   "id": "57c60a59",
   "metadata": {},
   "outputs": [],
   "source": [
    "'''Answer:\n",
    "Variable is used to define an entity whereas string is the value that can be assignemd to a variable.\n",
    "Variable acts like a container that can accomodate values (numeric, strinh, list , tuple, ect...).\n",
    "e.g:\n",
    "    a = \"ajay\"\n",
    " here a is the variable that has value as \"ajay\" which is a string\n",
    "string is always denoted inside a single quotes or doube quotes. '''"
   ]
  },
  {
   "cell_type": "markdown",
   "id": "6cf56da1",
   "metadata": {},
   "source": [
    "# Question 3:"
   ]
  },
  {
   "cell_type": "code",
   "execution_count": null,
   "id": "d17dfdf2",
   "metadata": {},
   "outputs": [],
   "source": [
    "'''Describe three different data types.'''"
   ]
  },
  {
   "cell_type": "code",
   "execution_count": null,
   "id": "c9870199",
   "metadata": {},
   "outputs": [],
   "source": [
    "'''\n",
    "int\n",
    "float\n",
    "string\n",
    "complex\n",
    "'''"
   ]
  },
  {
   "cell_type": "code",
   "execution_count": 41,
   "id": "88b657f1",
   "metadata": {},
   "outputs": [
    {
     "data": {
      "text/plain": [
       "int"
      ]
     },
     "execution_count": 41,
     "metadata": {},
     "output_type": "execute_result"
    }
   ],
   "source": [
    "a = 5\n",
    "type(a)"
   ]
  },
  {
   "cell_type": "code",
   "execution_count": 42,
   "id": "ab09c186",
   "metadata": {},
   "outputs": [
    {
     "data": {
      "text/plain": [
       "float"
      ]
     },
     "execution_count": 42,
     "metadata": {},
     "output_type": "execute_result"
    }
   ],
   "source": [
    "a = 6.1\n",
    "type(a)"
   ]
  },
  {
   "cell_type": "code",
   "execution_count": 43,
   "id": "47dfbb72",
   "metadata": {},
   "outputs": [
    {
     "data": {
      "text/plain": [
       "str"
      ]
     },
     "execution_count": 43,
     "metadata": {},
     "output_type": "execute_result"
    }
   ],
   "source": [
    "a = \"ajay\"\n",
    "type(a)"
   ]
  },
  {
   "cell_type": "code",
   "execution_count": 44,
   "id": "43a3c115",
   "metadata": {},
   "outputs": [
    {
     "data": {
      "text/plain": [
       "complex"
      ]
     },
     "execution_count": 44,
     "metadata": {},
     "output_type": "execute_result"
    }
   ],
   "source": [
    "a = 5 +6.1j\n",
    "type(a)"
   ]
  },
  {
   "cell_type": "markdown",
   "id": "404bfe1b",
   "metadata": {},
   "source": [
    "# Question 4 :\n"
   ]
  },
  {
   "cell_type": "code",
   "execution_count": null,
   "id": "d83d3eb7",
   "metadata": {},
   "outputs": [],
   "source": [
    "'''What is an expression made up of? What do all expressions do?'''"
   ]
  },
  {
   "cell_type": "code",
   "execution_count": null,
   "id": "306c6480",
   "metadata": {},
   "outputs": [],
   "source": [
    "'''\n",
    "Expressions are made up of values and mathematical operations(operands).\n",
    "Expressions peroforms mathermatical operations over variable or values depending on their nature\n",
    "Various expresions are : \n",
    "    + : for additon\n",
    "    -: for substraction\n",
    "    * : for multiplication\n",
    "    @ : for matrix multiplication\n",
    "    / : for divison\n",
    "    // : for modulo\n",
    "    \n",
    " '''"
   ]
  },
  {
   "cell_type": "markdown",
   "id": "89be34ef",
   "metadata": {},
   "source": [
    "# Question 5:"
   ]
  },
  {
   "cell_type": "code",
   "execution_count": null,
   "id": "44b08eb5",
   "metadata": {},
   "outputs": [],
   "source": [
    "'''This assignment statements, like spam = 10. What is the difference between an expression and a statement?'''"
   ]
  },
  {
   "cell_type": "code",
   "execution_count": null,
   "id": "e808916b",
   "metadata": {},
   "outputs": [],
   "source": [
    "'''\n",
    "Expressions are made up of only values and operands and they return some value upon their execution whereas statemets does not return values.\n",
    "\n",
    "eg: 3+5, \"ajay\"+\" \"+ \"bhadauria\"  these are expressions while\n",
    "    a = 3+5 , name = \"ajay\"+\" \"+ \"bhadauria\" in this print(a) or print(name) is a statement.\n",
    "'''"
   ]
  },
  {
   "cell_type": "markdown",
   "id": "3c767d81",
   "metadata": {},
   "source": [
    "# Question 6:"
   ]
  },
  {
   "cell_type": "code",
   "execution_count": null,
   "id": "38008c19",
   "metadata": {},
   "outputs": [],
   "source": [
    "'''\n",
    "After running the following code, what does the variable bacon contain?\n",
    "bacon = 22\n",
    "bacon + 1\n",
    "'''\n"
   ]
  },
  {
   "cell_type": "code",
   "execution_count": 45,
   "id": "5cb4e8a8",
   "metadata": {},
   "outputs": [
    {
     "data": {
      "text/plain": [
       "23"
      ]
     },
     "execution_count": 45,
     "metadata": {},
     "output_type": "execute_result"
    }
   ],
   "source": [
    "bacon = 22\n",
    "bacon + 1"
   ]
  },
  {
   "cell_type": "code",
   "execution_count": 46,
   "id": "40355938",
   "metadata": {},
   "outputs": [
    {
     "data": {
      "text/plain": [
       "22"
      ]
     },
     "execution_count": 46,
     "metadata": {},
     "output_type": "execute_result"
    }
   ],
   "source": [
    "bacon"
   ]
  },
  {
   "cell_type": "code",
   "execution_count": null,
   "id": "9705ddfe",
   "metadata": {},
   "outputs": [],
   "source": [
    "'''here bacon+1 only adds 1 to the value of bacon , it is not associated with the variable bacon so it does not update the value of variabe bacon'''"
   ]
  },
  {
   "cell_type": "markdown",
   "id": "37e665ae",
   "metadata": {},
   "source": [
    "# Question:7"
   ]
  },
  {
   "cell_type": "code",
   "execution_count": 47,
   "id": "de5c3d9c",
   "metadata": {},
   "outputs": [
    {
     "data": {
      "text/plain": [
       "\"\\nWhat should the values of the following two terms be?\\n'spam' + 'spamspam'\\n'spam' * 3\\n\""
      ]
     },
     "execution_count": 47,
     "metadata": {},
     "output_type": "execute_result"
    }
   ],
   "source": [
    "'''\n",
    "What should the values of the following two terms be?\n",
    "'spam' + 'spamspam'\n",
    "'spam' * 3\n",
    "'''"
   ]
  },
  {
   "cell_type": "code",
   "execution_count": 21,
   "id": "f28a3bf6",
   "metadata": {},
   "outputs": [
    {
     "data": {
      "text/plain": [
       "'spamspamspam'"
      ]
     },
     "execution_count": 21,
     "metadata": {},
     "output_type": "execute_result"
    }
   ],
   "source": [
    "'spam' + 'spamspam' #IT simply adds two strings"
   ]
  },
  {
   "cell_type": "code",
   "execution_count": 23,
   "id": "78380215",
   "metadata": {},
   "outputs": [
    {
     "data": {
      "text/plain": [
       "'spamspamspam'"
      ]
     },
     "execution_count": 23,
     "metadata": {},
     "output_type": "execute_result"
    }
   ],
   "source": [
    "'spam' * 3 #here string is multipilied thrice  i.e string will get repeteated no. of times multipiled by."
   ]
  },
  {
   "cell_type": "markdown",
   "id": "09f1c280",
   "metadata": {},
   "source": [
    "# Question:8"
   ]
  },
  {
   "cell_type": "code",
   "execution_count": null,
   "id": "88114cf4",
   "metadata": {},
   "outputs": [],
   "source": [
    "'''\n",
    "Why is eggs a valid variable name while 100 is invalid?\n",
    "'''"
   ]
  },
  {
   "cell_type": "code",
   "execution_count": null,
   "id": "99dea510",
   "metadata": {},
   "outputs": [],
   "source": [
    "'''\n",
    "A variable name cannot start with a numeric value thats why 100 is not a valid variable name whereas eggs is a valid one.eggs100 can be a valid variable name though.\n",
    "'''"
   ]
  },
  {
   "cell_type": "code",
   "execution_count": 48,
   "id": "c8f24476",
   "metadata": {},
   "outputs": [],
   "source": [
    "eggs = \"can be a valid varibale name\""
   ]
  },
  {
   "cell_type": "code",
   "execution_count": 49,
   "id": "97094ab8",
   "metadata": {},
   "outputs": [
    {
     "ename": "SyntaxError",
     "evalue": "cannot assign to literal (<ipython-input-49-9065f5436f70>, line 1)",
     "output_type": "error",
     "traceback": [
      "\u001b[1;36m  File \u001b[1;32m\"<ipython-input-49-9065f5436f70>\"\u001b[1;36m, line \u001b[1;32m1\u001b[0m\n\u001b[1;33m    100 = \"cannot be a varibale name\"\u001b[0m\n\u001b[1;37m    ^\u001b[0m\n\u001b[1;31mSyntaxError\u001b[0m\u001b[1;31m:\u001b[0m cannot assign to literal\n"
     ]
    }
   ],
   "source": [
    "100 = \"cannot be a varibale name\""
   ]
  },
  {
   "cell_type": "code",
   "execution_count": 50,
   "id": "e6a1e065",
   "metadata": {},
   "outputs": [],
   "source": [
    "eggs100 = \" can also be a variable name\""
   ]
  },
  {
   "cell_type": "markdown",
   "id": "f8b7b047",
   "metadata": {},
   "source": [
    "# Question 9"
   ]
  },
  {
   "cell_type": "code",
   "execution_count": null,
   "id": "331c711d",
   "metadata": {},
   "outputs": [],
   "source": [
    "'''\n",
    "What three functions can be used to get the integer, floating-point number, or string version of a value?\n",
    "'''"
   ]
  },
  {
   "cell_type": "code",
   "execution_count": null,
   "id": "21b9e989",
   "metadata": {},
   "outputs": [],
   "source": [
    "'''\n",
    "int(), float(), str()\n",
    "'''"
   ]
  },
  {
   "cell_type": "code",
   "execution_count": 51,
   "id": "60a456b5",
   "metadata": {},
   "outputs": [
    {
     "data": {
      "text/plain": [
       "3"
      ]
     },
     "execution_count": 51,
     "metadata": {},
     "output_type": "execute_result"
    }
   ],
   "source": [
    "a = \"3\" \n",
    "int(a)"
   ]
  },
  {
   "cell_type": "code",
   "execution_count": 52,
   "id": "3581256c",
   "metadata": {},
   "outputs": [
    {
     "data": {
      "text/plain": [
       "'3'"
      ]
     },
     "execution_count": 52,
     "metadata": {},
     "output_type": "execute_result"
    }
   ],
   "source": [
    "a = 3\n",
    "str(a)"
   ]
  },
  {
   "cell_type": "code",
   "execution_count": 53,
   "id": "606582fc",
   "metadata": {},
   "outputs": [
    {
     "data": {
      "text/plain": [
       "3.0"
      ]
     },
     "execution_count": 53,
     "metadata": {},
     "output_type": "execute_result"
    }
   ],
   "source": [
    "a = \"3\"\n",
    "float(a)"
   ]
  },
  {
   "cell_type": "markdown",
   "id": "cf511e7e",
   "metadata": {},
   "source": [
    "# Question 10:"
   ]
  },
  {
   "cell_type": "code",
   "execution_count": null,
   "id": "309d912a",
   "metadata": {},
   "outputs": [],
   "source": [
    "'''\n",
    "Why does this expression cause an error? How can you fix it?\n",
    "'I have eaten ' + 99 + ' burritos.'\n",
    "'''\n"
   ]
  },
  {
   "cell_type": "code",
   "execution_count": null,
   "id": "a213d1ed",
   "metadata": {},
   "outputs": [],
   "source": [
    "'''\n",
    "Concatination of string with numeric (int, float) values is not a valid operation. only strings can be concatenated by using '+' operand.\n",
    "if we have to concatenate string with some other data type then that should be typecasted to a string.\n",
    "'''"
   ]
  },
  {
   "cell_type": "code",
   "execution_count": 54,
   "id": "fe85e4d8",
   "metadata": {},
   "outputs": [
    {
     "ename": "TypeError",
     "evalue": "can only concatenate str (not \"int\") to str",
     "output_type": "error",
     "traceback": [
      "\u001b[1;31m---------------------------------------------------------------------------\u001b[0m",
      "\u001b[1;31mTypeError\u001b[0m                                 Traceback (most recent call last)",
      "\u001b[1;32m<ipython-input-54-d24137131a5c>\u001b[0m in \u001b[0;36m<module>\u001b[1;34m\u001b[0m\n\u001b[1;32m----> 1\u001b[1;33m \u001b[1;34m'I have eaten '\u001b[0m \u001b[1;33m+\u001b[0m \u001b[1;36m99\u001b[0m \u001b[1;33m+\u001b[0m \u001b[1;34m' burritos.'\u001b[0m\u001b[1;33m\u001b[0m\u001b[1;33m\u001b[0m\u001b[0m\n\u001b[0m",
      "\u001b[1;31mTypeError\u001b[0m: can only concatenate str (not \"int\") to str"
     ]
    }
   ],
   "source": [
    "'I have eaten ' + 99 + ' burritos.'"
   ]
  },
  {
   "cell_type": "code",
   "execution_count": 55,
   "id": "b12ff15a",
   "metadata": {},
   "outputs": [
    {
     "data": {
      "text/plain": [
       "'I have eaten 99 burritos.'"
      ]
     },
     "execution_count": 55,
     "metadata": {},
     "output_type": "execute_result"
    }
   ],
   "source": [
    "'I have eaten ' + str(99) + ' burritos.' # typecasting 99 to string"
   ]
  }
 ],
 "metadata": {
  "kernelspec": {
   "display_name": "Python 3",
   "language": "python",
   "name": "python3"
  },
  "language_info": {
   "codemirror_mode": {
    "name": "ipython",
    "version": 3
   },
   "file_extension": ".py",
   "mimetype": "text/x-python",
   "name": "python",
   "nbconvert_exporter": "python",
   "pygments_lexer": "ipython3",
   "version": "3.8.8"
  }
 },
 "nbformat": 4,
 "nbformat_minor": 5
}
