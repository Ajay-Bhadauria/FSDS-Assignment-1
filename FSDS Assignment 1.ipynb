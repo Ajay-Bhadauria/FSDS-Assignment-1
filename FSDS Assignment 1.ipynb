{
 "cells": [
  {
   "cell_type": "code",
   "execution_count": 2,
   "id": "567efcf5",
   "metadata": {},
   "outputs": [],
   "source": [
    "# Assignemnt link: https://drive.google.com/file/d/1RjQBjq90BeqNuon_JUlrih7Tnda732cs/view"
   ]
  },
  {
   "cell_type": "markdown",
   "id": "82304f1f",
   "metadata": {},
   "source": [
    "# Question 1:"
   ]
  },
  {
   "cell_type": "raw",
   "id": "d4390e33",
   "metadata": {},
   "source": [
    "# 1. In the below elements which of them are values or an expression? eg:- values can be integer or string and expressions will be mathematical operators.\n",
    "* \n",
    "'hello'\n",
    "-87.8\n",
    "- \n",
    "/ \n",
    "+\t\n",
    "6 \n"
   ]
  },
  {
   "cell_type": "raw",
   "id": "22d59261",
   "metadata": {},
   "source": [
    "Answer:\n",
    "* ---> expression( for multiplication)\n",
    "'hello' ---> value ( string)\n",
    "-87.8 ---> value (floating number)\n",
    "-  ---> expression for substraction\n",
    "/  ---> expression for divison\n",
    "+  ---> expression for addition\n",
    "6  ---> value (integer)"
   ]
  },
  {
   "cell_type": "markdown",
   "id": "534aaffa",
   "metadata": {},
   "source": [
    "\n",
    "# Question 2:\n"
   ]
  },
  {
   "cell_type": "raw",
   "id": "1550904c",
   "metadata": {},
   "source": [
    "What is the difference between string and variable?"
   ]
  },
  {
   "cell_type": "raw",
   "id": "7ded9816",
   "metadata": {},
   "source": [
    "Answer:\n",
    "Variable is used to define an entity whereas string is the value that can be assignemd to a variable.\n",
    "Variable acts like a container that can accomodate values (numeric, strinh, list , tuple, ect...).\n",
    "e.g:\n",
    "    a = \"ajay\"\n",
    " here a is the variable that has value as \"ajay\" which is a string\n",
    "string is always denoted inside a single quotes or doube quotes."
   ]
  },
  {
   "cell_type": "markdown",
   "id": "af0fe10b",
   "metadata": {},
   "source": [
    "# Question 3:"
   ]
  },
  {
   "cell_type": "raw",
   "id": "7c1e5ff1",
   "metadata": {},
   "source": [
    "Describe three different data types."
   ]
  },
  {
   "cell_type": "raw",
   "id": "732a88ac",
   "metadata": {},
   "source": [
    "int\n",
    "float\n",
    "string\n",
    "complex\n"
   ]
  },
  {
   "cell_type": "code",
   "execution_count": 6,
   "id": "708dd6b4",
   "metadata": {},
   "outputs": [
    {
     "data": {
      "text/plain": [
       "int"
      ]
     },
     "execution_count": 6,
     "metadata": {},
     "output_type": "execute_result"
    }
   ],
   "source": [
    "a = 5\n",
    "type(a)"
   ]
  },
  {
   "cell_type": "code",
   "execution_count": 7,
   "id": "1c41b209",
   "metadata": {},
   "outputs": [
    {
     "data": {
      "text/plain": [
       "float"
      ]
     },
     "execution_count": 7,
     "metadata": {},
     "output_type": "execute_result"
    }
   ],
   "source": [
    "a = 6.1\n",
    "type(a)"
   ]
  },
  {
   "cell_type": "code",
   "execution_count": 17,
   "id": "405fda0f",
   "metadata": {},
   "outputs": [
    {
     "data": {
      "text/plain": [
       "str"
      ]
     },
     "execution_count": 17,
     "metadata": {},
     "output_type": "execute_result"
    }
   ],
   "source": [
    "a = \"ajay\"\n",
    "type(a)"
   ]
  },
  {
   "cell_type": "code",
   "execution_count": 15,
   "id": "ed3edf3f",
   "metadata": {},
   "outputs": [
    {
     "data": {
      "text/plain": [
       "complex"
      ]
     },
     "execution_count": 15,
     "metadata": {},
     "output_type": "execute_result"
    }
   ],
   "source": [
    "a = 5 +6.1j\n",
    "type(a)"
   ]
  },
  {
   "cell_type": "markdown",
   "id": "ad17abee",
   "metadata": {},
   "source": [
    "# Question 4 :\n"
   ]
  },
  {
   "cell_type": "raw",
   "id": "da1e4988",
   "metadata": {},
   "source": [
    "What is an expression made up of? What do all expressions do?"
   ]
  },
  {
   "cell_type": "raw",
   "id": "52b7b03b",
   "metadata": {},
   "source": [
    "Expressions are made up of values and mathematical operations(operands).\n",
    "Expressions peroforms mathermatical operations over variable or values depending on their nature\n",
    "Various expresions are : \n",
    "    + : for additon\n",
    "    -: for substraction\n",
    "    * : for multiplication\n",
    "    @ : for matrix multiplication\n",
    "    / : for divison\n",
    "    // : for modulo"
   ]
  },
  {
   "cell_type": "markdown",
   "id": "61f70b06",
   "metadata": {},
   "source": [
    "# Question 5:"
   ]
  },
  {
   "cell_type": "raw",
   "id": "b5fd9953",
   "metadata": {},
   "source": [
    "This assignment statements, like spam = 10. What is the difference between an expression and a statement?"
   ]
  },
  {
   "cell_type": "raw",
   "id": "7c9a16a0",
   "metadata": {},
   "source": [
    "Expressions are made up of only values and operands and they return some value upon their execution whereas statemets does not return values.\n",
    "\n",
    "eg: 3+5, \"ajay\"+\" \"+ \"bhadauria\"  these are expressions while\n",
    "    a = 3+5 , name = \"ajay\"+\" \"+ \"bhadauria\" in this print(a) or print(name) is a statement."
   ]
  },
  {
   "cell_type": "markdown",
   "id": "6c28c57a",
   "metadata": {},
   "source": [
    "# Question 6:"
   ]
  },
  {
   "cell_type": "raw",
   "id": "848af9cf",
   "metadata": {},
   "source": [
    "After running the following code, what does the variable bacon contain?\n",
    "bacon = 22\n",
    "bacon + 1\n"
   ]
  },
  {
   "cell_type": "code",
   "execution_count": 19,
   "id": "2cdd0872",
   "metadata": {},
   "outputs": [
    {
     "data": {
      "text/plain": [
       "23"
      ]
     },
     "execution_count": 19,
     "metadata": {},
     "output_type": "execute_result"
    }
   ],
   "source": [
    "bacon = 22\n",
    "bacon + 1"
   ]
  },
  {
   "cell_type": "code",
   "execution_count": 20,
   "id": "0397947c",
   "metadata": {},
   "outputs": [
    {
     "data": {
      "text/plain": [
       "22"
      ]
     },
     "execution_count": 20,
     "metadata": {},
     "output_type": "execute_result"
    }
   ],
   "source": [
    "bacon"
   ]
  },
  {
   "cell_type": "raw",
   "id": "7616b9ea",
   "metadata": {},
   "source": [
    "here bacon+1 only adds 1 to the value of bacon , it is not associated with the variable bacon so it does not update the value of variabe bacon"
   ]
  },
  {
   "cell_type": "markdown",
   "id": "f70f71f7",
   "metadata": {},
   "source": [
    "# Question:7"
   ]
  },
  {
   "cell_type": "raw",
   "id": "05cf5a24",
   "metadata": {},
   "source": [
    "What should the values of the following two terms be?\n",
    "'spam' + 'spamspam'\n",
    "'spam' * 3\n"
   ]
  },
  {
   "cell_type": "code",
   "execution_count": 21,
   "id": "b23bb3ec",
   "metadata": {},
   "outputs": [
    {
     "data": {
      "text/plain": [
       "'spamspamspam'"
      ]
     },
     "execution_count": 21,
     "metadata": {},
     "output_type": "execute_result"
    }
   ],
   "source": [
    "'spam' + 'spamspam' #IT simply adds two strings"
   ]
  },
  {
   "cell_type": "code",
   "execution_count": 23,
   "id": "3b74619e",
   "metadata": {},
   "outputs": [
    {
     "data": {
      "text/plain": [
       "'spamspamspam'"
      ]
     },
     "execution_count": 23,
     "metadata": {},
     "output_type": "execute_result"
    }
   ],
   "source": [
    "'spam' * 3 #here string is multipilied thrice  i.e string will get repeteated no. of times multipiled by."
   ]
  },
  {
   "cell_type": "markdown",
   "id": "54787bd9",
   "metadata": {},
   "source": [
    "# Question:8"
   ]
  },
  {
   "cell_type": "raw",
   "id": "a3e1fce6",
   "metadata": {},
   "source": [
    "Why is eggs a valid variable name while 100 is invalid?"
   ]
  },
  {
   "cell_type": "raw",
   "id": "eb9742f7",
   "metadata": {},
   "source": [
    "A variable name cannot start with a numeric value thats why 100 is not a valid variable name whereas eggs is a valid one.eggs100 can be a valid variable name though."
   ]
  },
  {
   "cell_type": "code",
   "execution_count": 27,
   "id": "f62eae19",
   "metadata": {},
   "outputs": [],
   "source": [
    "eggs = \"can be a valid varibale name\""
   ]
  },
  {
   "cell_type": "code",
   "execution_count": 26,
   "id": "7e5de34a",
   "metadata": {},
   "outputs": [
    {
     "ename": "SyntaxError",
     "evalue": "cannot assign to literal (<ipython-input-26-9065f5436f70>, line 1)",
     "output_type": "error",
     "traceback": [
      "\u001b[1;36m  File \u001b[1;32m\"<ipython-input-26-9065f5436f70>\"\u001b[1;36m, line \u001b[1;32m1\u001b[0m\n\u001b[1;33m    100 = \"cannot be a varibale name\"\u001b[0m\n\u001b[1;37m    ^\u001b[0m\n\u001b[1;31mSyntaxError\u001b[0m\u001b[1;31m:\u001b[0m cannot assign to literal\n"
     ]
    }
   ],
   "source": [
    "100 = \"cannot be a varibale name\""
   ]
  },
  {
   "cell_type": "code",
   "execution_count": 28,
   "id": "c3c29b09",
   "metadata": {},
   "outputs": [],
   "source": [
    "eggs100 = \" can also be a variable name\""
   ]
  },
  {
   "cell_type": "markdown",
   "id": "cdf1a9a1",
   "metadata": {},
   "source": [
    "# Question 9"
   ]
  },
  {
   "cell_type": "raw",
   "id": "0f05d465",
   "metadata": {},
   "source": [
    "What three functions can be used to get the integer, floating-point number, or string version of a value?"
   ]
  },
  {
   "cell_type": "raw",
   "id": "3dd1537d",
   "metadata": {},
   "source": [
    "int(), float(), str()"
   ]
  },
  {
   "cell_type": "code",
   "execution_count": 33,
   "id": "7a1947bf",
   "metadata": {},
   "outputs": [
    {
     "data": {
      "text/plain": [
       "3"
      ]
     },
     "execution_count": 33,
     "metadata": {},
     "output_type": "execute_result"
    }
   ],
   "source": [
    "a = \"3\" \n",
    "int(a)"
   ]
  },
  {
   "cell_type": "code",
   "execution_count": 34,
   "id": "b84a4cf1",
   "metadata": {},
   "outputs": [
    {
     "data": {
      "text/plain": [
       "'3'"
      ]
     },
     "execution_count": 34,
     "metadata": {},
     "output_type": "execute_result"
    }
   ],
   "source": [
    "a = 3\n",
    "str(a)"
   ]
  },
  {
   "cell_type": "code",
   "execution_count": 35,
   "id": "7c6cb7b0",
   "metadata": {},
   "outputs": [
    {
     "data": {
      "text/plain": [
       "3.0"
      ]
     },
     "execution_count": 35,
     "metadata": {},
     "output_type": "execute_result"
    }
   ],
   "source": [
    "a = \"3\"\n",
    "float(a)"
   ]
  },
  {
   "cell_type": "markdown",
   "id": "af966d29",
   "metadata": {},
   "source": [
    "# Question 10:"
   ]
  },
  {
   "cell_type": "raw",
   "id": "98d91bde",
   "metadata": {},
   "source": [
    "Why does this expression cause an error? How can you fix it?\n",
    "'I have eaten ' + 99 + ' burritos.'\n"
   ]
  },
  {
   "cell_type": "raw",
   "id": "2a822bc1",
   "metadata": {},
   "source": [
    "Concatination of string with numeric (int, float) values is not a valid operation. only strings can be concatenated by using '+' operand.\n",
    "if we have to concatenate string with some other data type then that should be typecasted to a string."
   ]
  },
  {
   "cell_type": "code",
   "execution_count": 37,
   "id": "979c7efc",
   "metadata": {},
   "outputs": [
    {
     "ename": "TypeError",
     "evalue": "can only concatenate str (not \"int\") to str",
     "output_type": "error",
     "traceback": [
      "\u001b[1;31m---------------------------------------------------------------------------\u001b[0m",
      "\u001b[1;31mTypeError\u001b[0m                                 Traceback (most recent call last)",
      "\u001b[1;32m<ipython-input-37-d24137131a5c>\u001b[0m in \u001b[0;36m<module>\u001b[1;34m\u001b[0m\n\u001b[1;32m----> 1\u001b[1;33m \u001b[1;34m'I have eaten '\u001b[0m \u001b[1;33m+\u001b[0m \u001b[1;36m99\u001b[0m \u001b[1;33m+\u001b[0m \u001b[1;34m' burritos.'\u001b[0m\u001b[1;33m\u001b[0m\u001b[1;33m\u001b[0m\u001b[0m\n\u001b[0m",
      "\u001b[1;31mTypeError\u001b[0m: can only concatenate str (not \"int\") to str"
     ]
    }
   ],
   "source": [
    "'I have eaten ' + 99 + ' burritos.'"
   ]
  },
  {
   "cell_type": "code",
   "execution_count": 39,
   "id": "6e702148",
   "metadata": {},
   "outputs": [
    {
     "data": {
      "text/plain": [
       "'I have eaten 99 burritos.'"
      ]
     },
     "execution_count": 39,
     "metadata": {},
     "output_type": "execute_result"
    }
   ],
   "source": [
    "'I have eaten ' + str(99) + ' burritos.' # typecasting 99 to string"
   ]
  },
  {
   "cell_type": "code",
   "execution_count": null,
   "id": "1fa1f142",
   "metadata": {},
   "outputs": [],
   "source": []
  }
 ],
 "metadata": {
  "kernelspec": {
   "display_name": "Python 3",
   "language": "python",
   "name": "python3"
  },
  "language_info": {
   "codemirror_mode": {
    "name": "ipython",
    "version": 3
   },
   "file_extension": ".py",
   "mimetype": "text/x-python",
   "name": "python",
   "nbconvert_exporter": "python",
   "pygments_lexer": "ipython3",
   "version": "3.8.8"
  }
 },
 "nbformat": 4,
 "nbformat_minor": 5
}
