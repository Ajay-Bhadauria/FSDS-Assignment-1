{
 "cells": [
  {
   "cell_type": "code",
   "execution_count": 2,
   "id": "d8858073",
   "metadata": {},
   "outputs": [],
   "source": [
    "# Assignemnt link: https://drive.google.com/file/d/1RjQBjq90BeqNuon_JUlrih7Tnda732cs/view"
   ]
  },
  {
   "cell_type": "markdown",
   "id": "c4b2077d",
   "metadata": {},
   "source": [
    "# Question 1:"
   ]
  },
  {
   "cell_type": "code",
   "execution_count": 40,
   "id": "bd094326",
   "metadata": {},
   "outputs": [
    {
     "data": {
      "text/plain": [
       "\"# 1. In the below elements which of them are values or an expression? eg:- values can be integer or string and expressions will be mathematical operators.\\n* \\n'hello'\\n-87.8\\n- \\n/ \\n+\\t\\n6 \""
      ]
     },
     "execution_count": 40,
     "metadata": {},
     "output_type": "execute_result"
    }
   ],
   "source": [
    "'''# 1. In the below elements which of them are values or an expression? eg:- values can be integer or string and expressions will be mathematical operators.\n",
    "* \n",
    "'hello'\n",
    "-87.8\n",
    "- \n",
    "/ \n",
    "+\t\n",
    "6 '''"
   ]
  },
  {
   "cell_type": "code",
   "execution_count": null,
   "id": "83338b98",
   "metadata": {},
   "outputs": [],
   "source": [
    "'''Answer:\n",
    "* ---> expression( for multiplication)\n",
    "'hello' ---> value ( string)\n",
    "-87.8 ---> value (floating number)\n",
    "-  ---> expression for substraction\n",
    "/  ---> expression for divison\n",
    "+  ---> expression for addition\n",
    "6  ---> value (integer)'''"
   ]
  },
  {
   "cell_type": "markdown",
   "id": "fa0ac26b",
   "metadata": {},
   "source": [
    "\n",
    "# Question 2:\n"
   ]
  },
  {
   "cell_type": "code",
   "execution_count": null,
   "id": "3aae7426",
   "metadata": {},
   "outputs": [],
   "source": [
    "'''What is the difference between string and variable?'''"
   ]
  },
  {
   "cell_type": "code",
   "execution_count": null,
   "id": "f9cf8221",
   "metadata": {},
   "outputs": [],
   "source": [
    "'''Answer:\n",
    "Variable is used to define an entity whereas string is the value that can be assignemd to a variable.\n",
    "Variable acts like a container that can accomodate values (numeric, strinh, list , tuple, ect...).\n",
    "e.g:\n",
    "    a = \"ajay\"\n",
    " here a is the variable that has value as \"ajay\" which is a string\n",
    "string is always denoted inside a single quotes or doube quotes. '''"
   ]
  },
  {
   "cell_type": "markdown",
   "id": "2b4e46fc",
   "metadata": {},
   "source": [
    "# Question 3:"
   ]
  },
  {
   "cell_type": "code",
   "execution_count": null,
   "id": "c2c8d63c",
   "metadata": {},
   "outputs": [],
   "source": [
    "'''Describe three different data types.'''"
   ]
  },
  {
   "cell_type": "code",
   "execution_count": null,
   "id": "6f31fb6d",
   "metadata": {},
   "outputs": [],
   "source": [
    "'''\n",
    "int\n",
    "float\n",
    "string\n",
    "complex\n",
    "'''"
   ]
  },
  {
   "cell_type": "code",
   "execution_count": 41,
   "id": "e466bc7c",
   "metadata": {},
   "outputs": [
    {
     "data": {
      "text/plain": [
       "int"
      ]
     },
     "execution_count": 41,
     "metadata": {},
     "output_type": "execute_result"
    }
   ],
   "source": [
    "a = 5\n",
    "type(a)"
   ]
  },
  {
   "cell_type": "code",
   "execution_count": 42,
   "id": "c859088b",
   "metadata": {},
   "outputs": [
    {
     "data": {
      "text/plain": [
       "float"
      ]
     },
     "execution_count": 42,
     "metadata": {},
     "output_type": "execute_result"
    }
   ],
   "source": [
    "a = 6.1\n",
    "type(a)"
   ]
  },
  {
   "cell_type": "code",
   "execution_count": 43,
   "id": "5508eb33",
   "metadata": {},
   "outputs": [
    {
     "data": {
      "text/plain": [
       "str"
      ]
     },
     "execution_count": 43,
     "metadata": {},
     "output_type": "execute_result"
    }
   ],
   "source": [
    "a = \"ajay\"\n",
    "type(a)"
   ]
  },
  {
   "cell_type": "code",
   "execution_count": 44,
   "id": "cdd65860",
   "metadata": {},
   "outputs": [
    {
     "data": {
      "text/plain": [
       "complex"
      ]
     },
     "execution_count": 44,
     "metadata": {},
     "output_type": "execute_result"
    }
   ],
   "source": [
    "a = 5 +6.1j\n",
    "type(a)"
   ]
  },
  {
   "cell_type": "markdown",
   "id": "950c40c7",
   "metadata": {},
   "source": [
    "# Question 4 :\n"
   ]
  },
  {
   "cell_type": "code",
   "execution_count": null,
   "id": "e6b8fcb2",
   "metadata": {},
   "outputs": [],
   "source": [
    "'''What is an expression made up of? What do all expressions do?'''"
   ]
  },
  {
   "cell_type": "code",
   "execution_count": null,
   "id": "cfea02c7",
   "metadata": {},
   "outputs": [],
   "source": [
    "'''\n",
    "Expressions are made up of values and mathematical operations(operands).\n",
    "Expressions peroforms mathermatical operations over variable or values depending on their nature\n",
    "Various expresions are : \n",
    "    + : for additon\n",
    "    -: for substraction\n",
    "    * : for multiplication\n",
    "    @ : for matrix multiplication\n",
    "    / : for divison\n",
    "    // : for modulo\n",
    "    \n",
    " '''"
   ]
  },
  {
   "cell_type": "markdown",
   "id": "71455b32",
   "metadata": {},
   "source": [
    "# Question 5:"
   ]
  },
  {
   "cell_type": "code",
   "execution_count": null,
   "id": "0520bd7e",
   "metadata": {},
   "outputs": [],
   "source": [
    "'''This assignment statements, like spam = 10. What is the difference between an expression and a statement?'''"
   ]
  },
  {
   "cell_type": "code",
   "execution_count": null,
   "id": "989e9638",
   "metadata": {},
   "outputs": [],
   "source": [
    "'''\n",
    "Expressions are made up of only values and operands and they return some value upon their execution whereas statemets does not return values.\n",
    "\n",
    "eg: 3+5, \"ajay\"+\" \"+ \"bhadauria\"  these are expressions while\n",
    "    a = 3+5 , name = \"ajay\"+\" \"+ \"bhadauria\" in this print(a) or print(name) is a statement.\n",
    "'''"
   ]
  },
  {
   "cell_type": "markdown",
   "id": "dc3028dd",
   "metadata": {},
   "source": [
    "# Question 6:"
   ]
  },
  {
   "cell_type": "code",
   "execution_count": null,
   "id": "10ef6702",
   "metadata": {},
   "outputs": [],
   "source": [
    "'''\n",
    "After running the following code, what does the variable bacon contain?\n",
    "bacon = 22\n",
    "bacon + 1\n",
    "'''\n"
   ]
  },
  {
   "cell_type": "code",
   "execution_count": 45,
   "id": "ae8abd20",
   "metadata": {},
   "outputs": [
    {
     "data": {
      "text/plain": [
       "23"
      ]
     },
     "execution_count": 45,
     "metadata": {},
     "output_type": "execute_result"
    }
   ],
   "source": [
    "bacon = 22\n",
    "bacon + 1"
   ]
  },
  {
   "cell_type": "code",
   "execution_count": 46,
   "id": "0959dca6",
   "metadata": {},
   "outputs": [
    {
     "data": {
      "text/plain": [
       "22"
      ]
     },
     "execution_count": 46,
     "metadata": {},
     "output_type": "execute_result"
    }
   ],
   "source": [
    "bacon"
   ]
  },
  {
   "cell_type": "code",
   "execution_count": null,
   "id": "0ed02e00",
   "metadata": {},
   "outputs": [],
   "source": [
    "'''here bacon+1 only adds 1 to the value of bacon , it is not associated with the variable bacon so it does not update the value of variabe bacon'''"
   ]
  },
  {
   "cell_type": "markdown",
   "id": "a1157281",
   "metadata": {},
   "source": [
    "# Question:7"
   ]
  },
  {
   "cell_type": "code",
   "execution_count": 47,
   "id": "5529221e",
   "metadata": {},
   "outputs": [
    {
     "data": {
      "text/plain": [
       "\"\\nWhat should the values of the following two terms be?\\n'spam' + 'spamspam'\\n'spam' * 3\\n\""
      ]
     },
     "execution_count": 47,
     "metadata": {},
     "output_type": "execute_result"
    }
   ],
   "source": [
    "'''\n",
    "What should the values of the following two terms be?\n",
    "'spam' + 'spamspam'\n",
    "'spam' * 3\n",
    "'''"
   ]
  },
  {
   "cell_type": "code",
   "execution_count": 21,
   "id": "a5836590",
   "metadata": {},
   "outputs": [
    {
     "data": {
      "text/plain": [
       "'spamspamspam'"
      ]
     },
     "execution_count": 21,
     "metadata": {},
     "output_type": "execute_result"
    }
   ],
   "source": [
    "'spam' + 'spamspam' #IT simply adds two strings"
   ]
  },
  {
   "cell_type": "code",
   "execution_count": 23,
   "id": "f7de0606",
   "metadata": {},
   "outputs": [
    {
     "data": {
      "text/plain": [
       "'spamspamspam'"
      ]
     },
     "execution_count": 23,
     "metadata": {},
     "output_type": "execute_result"
    }
   ],
   "source": [
    "'spam' * 3 #here string is multipilied thrice  i.e string will get repeteated no. of times multipiled by."
   ]
  },
  {
   "cell_type": "markdown",
   "id": "be348782",
   "metadata": {},
   "source": [
    "# Question:8"
   ]
  },
  {
   "cell_type": "code",
   "execution_count": null,
   "id": "c699851d",
   "metadata": {},
   "outputs": [],
   "source": [
    "'''\n",
    "Why is eggs a valid variable name while 100 is invalid?\n",
    "'''"
   ]
  },
  {
   "cell_type": "code",
   "execution_count": null,
   "id": "78139cfc",
   "metadata": {},
   "outputs": [],
   "source": [
    "'''\n",
    "A variable name cannot start with a numeric value thats why 100 is not a valid variable name whereas eggs is a valid one.eggs100 can be a valid variable name though.\n",
    "'''"
   ]
  },
  {
   "cell_type": "code",
   "execution_count": 48,
   "id": "c7c6d94d",
   "metadata": {},
   "outputs": [],
   "source": [
    "eggs = \"can be a valid varibale name\""
   ]
  },
  {
   "cell_type": "code",
   "execution_count": 49,
   "id": "57bbd254",
   "metadata": {},
   "outputs": [
    {
     "ename": "SyntaxError",
     "evalue": "cannot assign to literal (<ipython-input-49-9065f5436f70>, line 1)",
     "output_type": "error",
     "traceback": [
      "\u001b[1;36m  File \u001b[1;32m\"<ipython-input-49-9065f5436f70>\"\u001b[1;36m, line \u001b[1;32m1\u001b[0m\n\u001b[1;33m    100 = \"cannot be a varibale name\"\u001b[0m\n\u001b[1;37m    ^\u001b[0m\n\u001b[1;31mSyntaxError\u001b[0m\u001b[1;31m:\u001b[0m cannot assign to literal\n"
     ]
    }
   ],
   "source": [
    "100 = \"cannot be a varibale name\""
   ]
  },
  {
   "cell_type": "code",
   "execution_count": 50,
   "id": "abe0ae26",
   "metadata": {},
   "outputs": [],
   "source": [
    "eggs100 = \" can also be a variable name\""
   ]
  },
  {
   "cell_type": "markdown",
   "id": "f3b85f1a",
   "metadata": {},
   "source": [
    "# Question 9"
   ]
  },
  {
   "cell_type": "code",
   "execution_count": null,
   "id": "9413df4d",
   "metadata": {},
   "outputs": [],
   "source": [
    "'''\n",
    "What three functions can be used to get the integer, floating-point number, or string version of a value?\n",
    "'''"
   ]
  },
  {
   "cell_type": "code",
   "execution_count": null,
   "id": "6746dcd2",
   "metadata": {},
   "outputs": [],
   "source": [
    "'''\n",
    "int(), float(), str()\n",
    "'''"
   ]
  },
  {
   "cell_type": "code",
   "execution_count": 51,
   "id": "c53d7590",
   "metadata": {},
   "outputs": [
    {
     "data": {
      "text/plain": [
       "3"
      ]
     },
     "execution_count": 51,
     "metadata": {},
     "output_type": "execute_result"
    }
   ],
   "source": [
    "a = \"3\" \n",
    "int(a)"
   ]
  },
  {
   "cell_type": "code",
   "execution_count": 52,
   "id": "6d19492b",
   "metadata": {},
   "outputs": [
    {
     "data": {
      "text/plain": [
       "'3'"
      ]
     },
     "execution_count": 52,
     "metadata": {},
     "output_type": "execute_result"
    }
   ],
   "source": [
    "a = 3\n",
    "str(a)"
   ]
  },
  {
   "cell_type": "code",
   "execution_count": 53,
   "id": "cd6bb7fa",
   "metadata": {},
   "outputs": [
    {
     "data": {
      "text/plain": [
       "3.0"
      ]
     },
     "execution_count": 53,
     "metadata": {},
     "output_type": "execute_result"
    }
   ],
   "source": [
    "a = \"3\"\n",
    "float(a)"
   ]
  },
  {
   "cell_type": "markdown",
   "id": "f233e7fa",
   "metadata": {},
   "source": [
    "# Question 10:"
   ]
  },
  {
   "cell_type": "code",
   "execution_count": null,
   "id": "f192e875",
   "metadata": {},
   "outputs": [],
   "source": [
    "'''\n",
    "Why does this expression cause an error? How can you fix it?\n",
    "'I have eaten ' + 99 + ' burritos.'\n",
    "'''\n"
   ]
  },
  {
   "cell_type": "code",
   "execution_count": null,
   "id": "495d801e",
   "metadata": {},
   "outputs": [],
   "source": [
    "'''\n",
    "Concatination of string with numeric (int, float) values is not a valid operation. only strings can be concatenated by using '+' operand.\n",
    "if we have to concatenate string with some other data type then that should be typecasted to a string.\n",
    "'''"
   ]
  },
  {
   "cell_type": "code",
   "execution_count": 54,
   "id": "3d55a61f",
   "metadata": {},
   "outputs": [
    {
     "ename": "TypeError",
     "evalue": "can only concatenate str (not \"int\") to str",
     "output_type": "error",
     "traceback": [
      "\u001b[1;31m---------------------------------------------------------------------------\u001b[0m",
      "\u001b[1;31mTypeError\u001b[0m                                 Traceback (most recent call last)",
      "\u001b[1;32m<ipython-input-54-d24137131a5c>\u001b[0m in \u001b[0;36m<module>\u001b[1;34m\u001b[0m\n\u001b[1;32m----> 1\u001b[1;33m \u001b[1;34m'I have eaten '\u001b[0m \u001b[1;33m+\u001b[0m \u001b[1;36m99\u001b[0m \u001b[1;33m+\u001b[0m \u001b[1;34m' burritos.'\u001b[0m\u001b[1;33m\u001b[0m\u001b[1;33m\u001b[0m\u001b[0m\n\u001b[0m",
      "\u001b[1;31mTypeError\u001b[0m: can only concatenate str (not \"int\") to str"
     ]
    }
   ],
   "source": [
    "'I have eaten ' + 99 + ' burritos.'"
   ]
  },
  {
   "cell_type": "code",
   "execution_count": 55,
   "id": "bccaf9c6",
   "metadata": {},
   "outputs": [
    {
     "data": {
      "text/plain": [
       "'I have eaten 99 burritos.'"
      ]
     },
     "execution_count": 55,
     "metadata": {},
     "output_type": "execute_result"
    }
   ],
   "source": [
    "'I have eaten ' + str(99) + ' burritos.' # typecasting 99 to string"
   ]
  }
 ],
 "metadata": {
  "kernelspec": {
   "display_name": "Python 3",
   "language": "python",
   "name": "python3"
  },
  "language_info": {
   "codemirror_mode": {
    "name": "ipython",
    "version": 3
   },
   "file_extension": ".py",
   "mimetype": "text/x-python",
   "name": "python",
   "nbconvert_exporter": "python",
   "pygments_lexer": "ipython3",
   "version": "3.8.8"
  }
 },
 "nbformat": 4,
 "nbformat_minor": 5
}
